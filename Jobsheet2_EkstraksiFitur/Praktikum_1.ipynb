{
  "nbformat": 4,
  "nbformat_minor": 0,
  "metadata": {
    "colab": {
      "provenance": [],
      "authorship_tag": "ABX9TyPV1DimDtjSpUMyVVOJc6D9",
      "include_colab_link": true
    },
    "kernelspec": {
      "name": "python3",
      "display_name": "Python 3"
    },
    "language_info": {
      "name": "python"
    }
  },
  "cells": [
    {
      "cell_type": "markdown",
      "metadata": {
        "id": "view-in-github",
        "colab_type": "text"
      },
      "source": [
        "<a href=\"https://colab.research.google.com/github/tyasenj/26_2241720012_PemrogramanMobile/blob/main/Jobsheet2_EkstraksiFitur/Praktikum_1.ipynb\" target=\"_parent\"><img src=\"https://colab.research.google.com/assets/colab-badge.svg\" alt=\"Open In Colab\"/></a>"
      ]
    },
    {
      "cell_type": "markdown",
      "source": [
        "**<h1>PRAKTIKUM 1**\n",
        "\n",
        "**<h3>Data Imputation**\n",
        "\n",
        "Pada praktikum ini kita akan mencoba melakukan data imputation terhadap data yang hilang (missing value). Dataset yang digunakan adalah dataset Titanic.\n"
      ],
      "metadata": {
        "id": "OIHibLhZFjl2"
      }
    },
    {
      "cell_type": "markdown",
      "source": [
        "**Langkah 1 - Load Data**\n",
        "\n",
        "Import library yang dibutuhkan kemudian, load data kedalam DataFrame Pandas."
      ],
      "metadata": {
        "id": "ZQ1PcgJTFq4y"
      }
    },
    {
      "cell_type": "code",
      "source": [],
      "metadata": {
        "id": "H7paqT_rFg7z"
      },
      "execution_count": null,
      "outputs": []
    }
  ]
}